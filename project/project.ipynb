{
 "metadata": {
  "name": ""
 },
 "nbformat": 3,
 "nbformat_minor": 0,
 "worksheets": [
  {
   "cells": [
    {
     "cell_type": "code",
     "collapsed": false,
     "input": [
      "import csv "
     ],
     "language": "python",
     "metadata": {},
     "outputs": [],
     "prompt_number": 2
    },
    {
     "cell_type": "code",
     "collapsed": false,
     "input": [
      "f=open('motor_vehicles.csv','rb')\n",
      "reader=csv.reader(f)\n",
      "rownum=0\n",
      "year=[2003,2004,2005,2006,2007,2008,2009,2010]\n",
      "belgium = []\n",
      "for row in reader:\n",
      "    if rownum == 4:\n",
      "         belgium = row\n",
      "    rownum+=1\n",
      "realbelgium = []\n",
      "counter = 0\n",
      "for b in belgium:\n",
      "    if counter> 45 and counter < 54:\n",
      "        realbelgium.append(b)\n",
      "    counter+=1\n",
      "\n",
      "realbelgium=map(float,realbelgium)\n",
      "f.close()\n",
      "\n",
      "from pylab import *\n",
      "fig = plt.figure()\n",
      "ax = fig.add_subplot(111)\n",
      "ax.set_title('cars in belgium')\n",
      "ax.set_xlabel('year')\n",
      "ax.set_ylabel('amount of cars')\n",
      "bar(year,realbelgium)\n",
      "\n",
      "\n",
      "    \n",
      "    "
     ],
     "language": "python",
     "metadata": {},
     "outputs": [
      {
       "metadata": {},
       "output_type": "pyout",
       "prompt_number": 65,
       "text": [
        "<Container object of 8 artists>"
       ]
      },
      {
       "metadata": {},
       "output_type": "display_data",
       "png": "[encoded data removed]",
       "text": [
        "<matplotlib.figure.Figure at 0x991a72c>"
       ]
      }
     ],
     "prompt_number": 65
    },
    {
     "cell_type": "code",
     "collapsed": false,
     "input": [],
     "language": "python",
     "metadata": {},
     "outputs": [],
     "prompt_number": 59
    }
   ],
   "metadata": {}
  }
 ]
}